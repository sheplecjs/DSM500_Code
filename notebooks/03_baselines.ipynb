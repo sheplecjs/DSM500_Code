{
 "cells": [
  {
   "cell_type": "code",
   "execution_count": null,
   "metadata": {},
   "outputs": [],
   "source": [
    "import subprocess\n",
    "import glob"
   ]
  },
  {
   "cell_type": "code",
   "execution_count": null,
   "metadata": {},
   "outputs": [],
   "source": [
    "# grab files from datasets folder\n",
    "datasets = [path[9:] for path in glob.iglob(\"datasets/*.csv\")]\n",
    "\n",
    "# naming for checkpoints\n",
    "data_names = [d.replace(\".csv\", \"\").upper() for d in datasets]\n",
    "\n",
    "models =[\n",
    "    \"Transformer_rnd\",\n",
    "    \"Transformer\"\n",
    "]"
   ]
  },
  {
   "cell_type": "code",
   "execution_count": null,
   "metadata": {},
   "outputs": [],
   "source": [
    "# iterate over models and datasets (100%, 80%, 60%, 40% truncated)\n",
    "for m in models:\n",
    "    for data, name in zip(datasets, data_names):\n",
    "        cmd = f\"python -u ../run.py\\\n",
    "        --is_training 1 \\\n",
    "        --root_path datasets/ \\\n",
    "        --data_path {data} \\\n",
    "        --model_id {name} \\\n",
    "        --model {m} \\\n",
    "        --data custom \\\n",
    "        --features S \\\n",
    "        --seq_len 48 \\\n",
    "        --label_len 24 \\\n",
    "        --pred_len 24 \\\n",
    "        --e_layers 3 \\\n",
    "        --d_layers 3 \\\n",
    "        --factor 1 \\\n",
    "        --enc_in 1 \\\n",
    "        --dec_in 1 \\\n",
    "        --c_out 1 \\\n",
    "        --des 'Exp' \\\n",
    "        --itr 1 \\\n",
    "        --n_heads 1\"\n",
    "\n",
    "        subprocess.run(cmd, shell=True)"
   ]
  },
  {
   "cell_type": "code",
   "execution_count": null,
   "metadata": {},
   "outputs": [],
   "source": [
    "# for sdm model training\n",
    "# iterate over models and datasets (100%, 80%, 60%, 40% truncated)\n",
    "for data, name in zip(datasets, data_names):\n",
    "    cmd = f\"python -u ../run.py\\\n",
    "    --is_training 1 \\\n",
    "    --root_path datasets/ \\\n",
    "    --data_path {data} \\\n",
    "    --model_id {name} \\\n",
    "    --model Transformer_sdm \\\n",
    "    --data custom \\\n",
    "    --features S \\\n",
    "    --seq_len 48 \\\n",
    "    --label_len 24 \\\n",
    "    --pred_len 24 \\\n",
    "    --e_layers 3 \\\n",
    "    --d_layers 3 \\\n",
    "    --factor 1 \\\n",
    "    --enc_in 1 \\\n",
    "    --dec_in 1 \\\n",
    "    --c_out 1 \\\n",
    "    --des 'Exp' \\\n",
    "    --itr 1 \\\n",
    "    --n_heads 1\"\n",
    "\n",
    "    subprocess.run(cmd, shell=True)"
   ]
  },
  {
   "cell_type": "code",
   "execution_count": null,
   "metadata": {},
   "outputs": [],
   "source": []
  }
 ],
 "metadata": {
  "kernelspec": {
   "display_name": "sdm-QQURbYP_-py3.10",
   "language": "python",
   "name": "python3"
  },
  "language_info": {
   "codemirror_mode": {
    "name": "ipython",
    "version": 3
   },
   "file_extension": ".py",
   "mimetype": "text/x-python",
   "name": "python",
   "nbconvert_exporter": "python",
   "pygments_lexer": "ipython3",
   "version": "3.10.7"
  },
  "orig_nbformat": 4
 },
 "nbformat": 4,
 "nbformat_minor": 2
}
